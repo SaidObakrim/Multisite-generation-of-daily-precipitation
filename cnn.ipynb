{
  "nbformat": 4,
  "nbformat_minor": 0,
  "metadata": {
    "accelerator": "GPU",
    "colab": {
      "name": "cnn.ipynb",
      "provenance": [],
      "collapsed_sections": [],
      "toc_visible": true,
      "machine_shape": "hm",
      "include_colab_link": true
    },
    "kernelspec": {
      "name": "python3",
      "display_name": "Python 3"
    }
  },
  "cells": [
    {
      "cell_type": "markdown",
      "metadata": {
        "id": "view-in-github",
        "colab_type": "text"
      },
      "source": [
        "<a href=\"https://colab.research.google.com/github/SaidObakrim/Multisite-generation-of-daily-precipitation/blob/master/cnn.ipynb\" target=\"_parent\"><img src=\"https://colab.research.google.com/assets/colab-badge.svg\" alt=\"Open In Colab\"/></a>"
      ]
    },
    {
      "cell_type": "markdown",
      "metadata": {
        "id": "DSPCom-KmApV"
      },
      "source": [
        "# Convolutional Neural Network (CNN)"
      ]
    },
    {
      "cell_type": "code",
      "metadata": {
        "id": "iAve6DCL4JH4"
      },
      "source": [
        "import tensorflow as tf\n",
        "import pandas as pd\n",
        "import numpy as np\n",
        "from tensorflow.keras import datasets, layers, models\n",
        "import matplotlib.pyplot as plot\n",
        "import cv2 as cv\n",
        "from tensorflow.keras import Sequential\n",
        "from tensorflow.keras.models import Model\n",
        "from tensorflow.keras.layers import Input, Dense , Conv2D, BatchNormalization, Activation, Add, TimeDistributed, LSTM\n",
        "from tensorflow.keras.layers import ZeroPadding2D, MaxPooling2D, AveragePooling2D, Flatten, Dropout\n",
        "from tensorflow.keras.initializers import glorot_uniform"
      ],
      "execution_count": null,
      "outputs": []
    },
    {
      "cell_type": "code",
      "metadata": {
        "id": "6pKsjwH_3hzP",
        "colab": {
          "base_uri": "https://localhost:8080/",
          "height": 124
        },
        "outputId": "5d5408c0-619b-43e7-fc4b-83850d171f7e"
      },
      "source": [
        "from google.colab import drive\n",
        "drive.mount('/content/drive')"
      ],
      "execution_count": null,
      "outputs": [
        {
          "output_type": "stream",
          "text": [
            "Go to this URL in a browser: https://accounts.google.com/o/oauth2/auth?client_id=947318989803-6bn6qk8qdgf4n4g3pfee6491hc0brc4i.apps.googleusercontent.com&redirect_uri=urn%3aietf%3awg%3aoauth%3a2.0%3aoob&response_type=code&scope=email%20https%3a%2f%2fwww.googleapis.com%2fauth%2fdocs.test%20https%3a%2f%2fwww.googleapis.com%2fauth%2fdrive%20https%3a%2f%2fwww.googleapis.com%2fauth%2fdrive.photos.readonly%20https%3a%2f%2fwww.googleapis.com%2fauth%2fpeopleapi.readonly\n",
            "\n",
            "Enter your authorization code:\n",
            "··········\n",
            "Mounted at /content/drive\n"
          ],
          "name": "stdout"
        }
      ]
    },
    {
      "cell_type": "code",
      "metadata": {
        "id": "JWoEqyMuXFF4"
      },
      "source": [
        "## access to images in google drive \n",
        "from zipfile import ZipFile\n",
        "with ZipFile('/content/drive/My Drive/new_images.zip','r') as zip:\n",
        "  zip.extractall()"
      ],
      "execution_count": null,
      "outputs": []
    },
    {
      "cell_type": "code",
      "metadata": {
        "id": "d37tLdWoSpO2",
        "colab": {
          "base_uri": "https://localhost:8080/",
          "height": 35
        },
        "outputId": "3e0a3a5a-c1a1-400a-c88b-ce7cce2d9164"
      },
      "source": [
        "files = ['new_images/'+ str(i)+'.png' for i in range(1,16829)]\n",
        "gray_img = cv.imread(files[1], 0)\n",
        "gray_img.shape"
      ],
      "execution_count": null,
      "outputs": [
        {
          "output_type": "execute_result",
          "data": {
            "text/plain": [
              "(480, 480)"
            ]
          },
          "metadata": {
            "tags": []
          },
          "execution_count": 9
        }
      ]
    },
    {
      "cell_type": "code",
      "metadata": {
        "id": "K3PAELE2eSU9"
      },
      "source": [
        "files = ['new_images/'+ str(i)+'.png' for i in range(1,16829)]\n",
        "x_train = []\n",
        "x_test = []\n",
        "height = 100\n",
        "width = 100\n",
        "for i in range(0,14620):\n",
        "    x_train.append(cv.resize(cv.imread(files[i]), (width, height), interpolation = cv.INTER_AREA)) \n",
        "\n",
        "for i in range(14620,16828):\n",
        "    x_test.append(cv.resize(cv.imread(files[i]), (width, height), interpolation = cv.INTER_AREA)) \n"
      ],
      "execution_count": null,
      "outputs": []
    },
    {
      "cell_type": "code",
      "metadata": {
        "id": "jU4SsIOCTt1x"
      },
      "source": [
        "x_train = np.array(x_train)\n",
        "x_test = np.array(x_test)"
      ],
      "execution_count": null,
      "outputs": []
    },
    {
      "cell_type": "code",
      "metadata": {
        "id": "9r_8iu_tUHqg"
      },
      "source": [
        "x_train = x_train.reshape(x_train.shape[0],x_train.shape[1],x_train.shape[2],1)\n",
        "x_test = x_test.reshape(x_test.shape[0],x_test.shape[1],x_test.shape[2],1)"
      ],
      "execution_count": null,
      "outputs": []
    },
    {
      "cell_type": "code",
      "metadata": {
        "id": "HgwweEOxIXMm"
      },
      "source": [
        "y = pd.read_csv('hs_.csv')\n",
        "y = np.array(y.drop(columns=['Unnamed: 0']))\n",
        "y = y.reshape(y.shape[0],1)\n",
        "y = y[100:]\n",
        "y_train = y[0:14620]\n",
        "y_test = y[14620:16828]"
      ],
      "execution_count": null,
      "outputs": []
    },
    {
      "cell_type": "code",
      "metadata": {
        "id": "q3h3rlc4-yfM"
      },
      "source": [
        "def MyModel(input_shape):\n",
        "    X_input = Input(input_shape)\n",
        "\n",
        "    X = ZeroPadding2D((2,2))(X_input)\n",
        "\n",
        "    X = Conv2D(16, (7, 7), strides = (1, 1), name = 'conv1', kernel_initializer = glorot_uniform(seed=0))(X)\n",
        "    X = BatchNormalization(axis = 3, name = 'bn_conv1')(X)\n",
        "    X = Activation('relu')(X)\n",
        "    X = MaxPooling2D((2, 2), strides=(1, 1))(X)\n",
        "    \n",
        "    X = Conv2D(32, (5, 5), strides = (1, 1), name = 'conv2', kernel_initializer = glorot_uniform(seed=0))(X)\n",
        "    X = BatchNormalization(axis = 3, name = 'bn_conv2')(X)\n",
        "    X = Activation('relu')(X)\n",
        "    X = MaxPooling2D((2, 2), strides=(2, 2))(X)\n",
        "    \n",
        "\n",
        "    X = Conv2D(64, (3, 3), strides = (2, 2), name = 'conv3', kernel_initializer = glorot_uniform(seed=0))(X)\n",
        "    X = BatchNormalization(axis = 3, name = 'bn_conv3')(X)\n",
        "    X = Activation('relu')(X)\n",
        "    X = MaxPooling2D((2, 2), strides=(2, 2))(X)\n",
        "\n",
        "    X = Conv2D(128, (3, 3), strides = (2, 2), name = 'conv4', kernel_initializer = glorot_uniform(seed=0))(X)\n",
        "    X = BatchNormalization(axis = 3, name = 'bn_conv4')(X)\n",
        "    X = Activation('relu')(X)\n",
        "    X = MaxPooling2D((2, 2), strides=(1, 1))(X)\n",
        "        \n",
        "\n",
        "\n",
        "    X = Flatten()(X)\n",
        "    \n",
        "    X = Dropout(0.5)(X)\n",
        "    \n",
        "    X = Dense(1000, activation='relu', name='dense2' , kernel_initializer = glorot_uniform(seed=0))(X)\n",
        "\n",
        "    X = Dense(1, activation='linear', name='regression' , kernel_initializer = glorot_uniform(seed=0))(X)\n",
        "    \n",
        "    model = Model(inputs = X_input, outputs = X, name='Model1')\n",
        "    \n",
        "    return model"
      ],
      "execution_count": null,
      "outputs": []
    },
    {
      "cell_type": "code",
      "metadata": {
        "id": "5jjjVEz5jfWT",
        "colab": {
          "base_uri": "https://localhost:8080/",
          "height": 919
        },
        "outputId": "549db324-11e5-4e66-bac8-e7e86c9a9a5f"
      },
      "source": [
        "model = MyModel((100,100,3))\n",
        "model.summary()"
      ],
      "execution_count": null,
      "outputs": [
        {
          "output_type": "stream",
          "text": [
            "Model: \"Model1\"\n",
            "_________________________________________________________________\n",
            "Layer (type)                 Output Shape              Param #   \n",
            "=================================================================\n",
            "input_1 (InputLayer)         [(None, 100, 100, 3)]     0         \n",
            "_________________________________________________________________\n",
            "zero_padding2d (ZeroPadding2 (None, 104, 104, 3)       0         \n",
            "_________________________________________________________________\n",
            "conv1 (Conv2D)               (None, 98, 98, 16)        2368      \n",
            "_________________________________________________________________\n",
            "bn_conv1 (BatchNormalization (None, 98, 98, 16)        64        \n",
            "_________________________________________________________________\n",
            "activation (Activation)      (None, 98, 98, 16)        0         \n",
            "_________________________________________________________________\n",
            "max_pooling2d (MaxPooling2D) (None, 97, 97, 16)        0         \n",
            "_________________________________________________________________\n",
            "conv2 (Conv2D)               (None, 93, 93, 32)        12832     \n",
            "_________________________________________________________________\n",
            "bn_conv2 (BatchNormalization (None, 93, 93, 32)        128       \n",
            "_________________________________________________________________\n",
            "activation_1 (Activation)    (None, 93, 93, 32)        0         \n",
            "_________________________________________________________________\n",
            "max_pooling2d_1 (MaxPooling2 (None, 46, 46, 32)        0         \n",
            "_________________________________________________________________\n",
            "conv3 (Conv2D)               (None, 22, 22, 64)        18496     \n",
            "_________________________________________________________________\n",
            "bn_conv3 (BatchNormalization (None, 22, 22, 64)        256       \n",
            "_________________________________________________________________\n",
            "activation_2 (Activation)    (None, 22, 22, 64)        0         \n",
            "_________________________________________________________________\n",
            "max_pooling2d_2 (MaxPooling2 (None, 11, 11, 64)        0         \n",
            "_________________________________________________________________\n",
            "conv4 (Conv2D)               (None, 5, 5, 128)         73856     \n",
            "_________________________________________________________________\n",
            "bn_conv4 (BatchNormalization (None, 5, 5, 128)         512       \n",
            "_________________________________________________________________\n",
            "activation_3 (Activation)    (None, 5, 5, 128)         0         \n",
            "_________________________________________________________________\n",
            "max_pooling2d_3 (MaxPooling2 (None, 4, 4, 128)         0         \n",
            "_________________________________________________________________\n",
            "flatten (Flatten)            (None, 2048)              0         \n",
            "_________________________________________________________________\n",
            "dropout (Dropout)            (None, 2048)              0         \n",
            "_________________________________________________________________\n",
            "dense2 (Dense)               (None, 1000)              2049000   \n",
            "_________________________________________________________________\n",
            "regression (Dense)           (None, 1)                 1001      \n",
            "=================================================================\n",
            "Total params: 2,158,513\n",
            "Trainable params: 2,158,033\n",
            "Non-trainable params: 480\n",
            "_________________________________________________________________\n"
          ],
          "name": "stdout"
        }
      ]
    },
    {
      "cell_type": "code",
      "metadata": {
        "id": "zOvhCjiuWVqP"
      },
      "source": [
        "def R(x, y):    \n",
        "    mx = tf.math.reduce_mean(x)\n",
        "    my = tf.math.reduce_mean(y)\n",
        "    xm, ym = x-mx, y-my\n",
        "    r_num = tf.math.reduce_mean(tf.multiply(xm,ym))        \n",
        "    r_den = tf.math.reduce_std(xm) * tf.math.reduce_std(ym)\n",
        "    return  tf.multiply(r_num / r_den,r_num / r_den)"
      ],
      "execution_count": null,
      "outputs": []
    },
    {
      "cell_type": "code",
      "metadata": {
        "id": "ju7z8S83m9OL",
        "colab": {
          "base_uri": "https://localhost:8080/",
          "height": 1000
        },
        "outputId": "44246b7a-b0dc-4f13-de8d-c557f626eea4"
      },
      "source": [
        "model.compile(optimizer='adam',\n",
        "              loss=tf.keras.losses.MSE,\n",
        "              metrics=[R])\n",
        "model.fit(x_train, y_train,epochs=50, validation_split=0.3, shuffle=False)"
      ],
      "execution_count": null,
      "outputs": [
        {
          "output_type": "stream",
          "text": [
            "Epoch 1/50\n",
            "320/320 [==============================] - 5s 15ms/step - loss: 0.0141 - R: 0.9277 - val_loss: 0.3034 - val_R: 0.5352\n",
            "Epoch 2/50\n",
            "320/320 [==============================] - 5s 14ms/step - loss: 0.0149 - R: 0.9253 - val_loss: 0.3148 - val_R: 0.5276\n",
            "Epoch 3/50\n",
            "320/320 [==============================] - 5s 15ms/step - loss: 0.0175 - R: 0.9253 - val_loss: 0.3506 - val_R: 0.5191\n",
            "Epoch 4/50\n",
            "320/320 [==============================] - 5s 15ms/step - loss: 0.0161 - R: 0.9229 - val_loss: 0.3569 - val_R: 0.5026\n",
            "Epoch 5/50\n",
            "320/320 [==============================] - 5s 15ms/step - loss: 0.0212 - R: 0.9133 - val_loss: 0.3554 - val_R: 0.5177\n",
            "Epoch 6/50\n",
            "320/320 [==============================] - 5s 14ms/step - loss: 0.0185 - R: 0.9194 - val_loss: 0.3234 - val_R: 0.5397\n",
            "Epoch 7/50\n",
            "320/320 [==============================] - 5s 14ms/step - loss: 0.0173 - R: 0.9173 - val_loss: 0.3148 - val_R: 0.5120\n",
            "Epoch 8/50\n",
            "320/320 [==============================] - 5s 14ms/step - loss: 0.0231 - R: 0.9102 - val_loss: 0.3088 - val_R: 0.5246\n",
            "Epoch 9/50\n",
            "320/320 [==============================] - 5s 14ms/step - loss: 0.0194 - R: 0.9167 - val_loss: 0.3226 - val_R: 0.5185\n",
            "Epoch 10/50\n",
            "320/320 [==============================] - 5s 14ms/step - loss: 0.0156 - R: 0.9221 - val_loss: 0.3306 - val_R: 0.5160\n",
            "Epoch 11/50\n",
            "320/320 [==============================] - 5s 14ms/step - loss: 0.0151 - R: 0.9233 - val_loss: 0.3201 - val_R: 0.5247\n",
            "Epoch 12/50\n",
            "320/320 [==============================] - 5s 14ms/step - loss: 0.0148 - R: 0.9261 - val_loss: 0.3648 - val_R: 0.5038\n",
            "Epoch 13/50\n",
            "320/320 [==============================] - 5s 14ms/step - loss: 0.0135 - R: 0.9299 - val_loss: 0.3677 - val_R: 0.5161\n",
            "Epoch 14/50\n",
            "320/320 [==============================] - 5s 14ms/step - loss: 0.0142 - R: 0.9257 - val_loss: 0.3635 - val_R: 0.5167\n",
            "Epoch 15/50\n",
            "320/320 [==============================] - 5s 14ms/step - loss: 0.0174 - R: 0.9236 - val_loss: 0.3943 - val_R: 0.4930\n",
            "Epoch 16/50\n",
            "320/320 [==============================] - 5s 14ms/step - loss: 0.0183 - R: 0.9183 - val_loss: 0.3789 - val_R: 0.5202\n",
            "Epoch 17/50\n",
            "320/320 [==============================] - 5s 14ms/step - loss: 0.0204 - R: 0.9102 - val_loss: 0.3453 - val_R: 0.5322\n",
            "Epoch 18/50\n",
            "320/320 [==============================] - 5s 14ms/step - loss: 0.0160 - R: 0.9249 - val_loss: 0.3267 - val_R: 0.5372\n",
            "Epoch 19/50\n",
            "320/320 [==============================] - 5s 14ms/step - loss: 0.0155 - R: 0.9279 - val_loss: 0.3779 - val_R: 0.5125\n",
            "Epoch 20/50\n",
            "320/320 [==============================] - 5s 14ms/step - loss: 0.0194 - R: 0.9227 - val_loss: 0.3436 - val_R: 0.5162\n",
            "Epoch 21/50\n",
            "320/320 [==============================] - 5s 14ms/step - loss: 0.0147 - R: 0.9299 - val_loss: 0.3376 - val_R: 0.5242\n",
            "Epoch 22/50\n",
            "320/320 [==============================] - 5s 14ms/step - loss: 0.0129 - R: 0.9294 - val_loss: 0.3342 - val_R: 0.5265\n",
            "Epoch 23/50\n",
            "320/320 [==============================] - 5s 14ms/step - loss: 0.0130 - R: 0.9334 - val_loss: 0.3342 - val_R: 0.5304\n",
            "Epoch 24/50\n",
            "320/320 [==============================] - 5s 14ms/step - loss: 0.0124 - R: 0.9329 - val_loss: 0.3304 - val_R: 0.5325\n",
            "Epoch 25/50\n",
            "320/320 [==============================] - 5s 14ms/step - loss: 0.0135 - R: 0.9309 - val_loss: 0.3315 - val_R: 0.5152\n",
            "Epoch 26/50\n",
            "320/320 [==============================] - 5s 14ms/step - loss: 0.0187 - R: 0.9233 - val_loss: 0.3375 - val_R: 0.5175\n",
            "Epoch 27/50\n",
            "320/320 [==============================] - 5s 14ms/step - loss: 0.0172 - R: 0.9251 - val_loss: 0.3062 - val_R: 0.5293\n",
            "Epoch 28/50\n",
            "320/320 [==============================] - 5s 14ms/step - loss: 0.0169 - R: 0.9245 - val_loss: 0.3459 - val_R: 0.5157\n",
            "Epoch 29/50\n",
            "320/320 [==============================] - 5s 14ms/step - loss: 0.0161 - R: 0.9266 - val_loss: 0.3263 - val_R: 0.5355\n",
            "Epoch 30/50\n",
            "320/320 [==============================] - 5s 14ms/step - loss: 0.0149 - R: 0.9284 - val_loss: 0.3081 - val_R: 0.5210\n",
            "Epoch 31/50\n",
            "320/320 [==============================] - 5s 14ms/step - loss: 0.0149 - R: 0.9276 - val_loss: 0.3574 - val_R: 0.4990\n",
            "Epoch 32/50\n",
            "320/320 [==============================] - 5s 14ms/step - loss: 0.0189 - R: 0.9251 - val_loss: 0.3799 - val_R: 0.5221\n",
            "Epoch 33/50\n",
            "320/320 [==============================] - 5s 14ms/step - loss: 0.0186 - R: 0.9191 - val_loss: 0.3076 - val_R: 0.5127\n",
            "Epoch 34/50\n",
            "320/320 [==============================] - 5s 14ms/step - loss: 0.0175 - R: 0.9260 - val_loss: 0.3028 - val_R: 0.5166\n",
            "Epoch 35/50\n",
            "320/320 [==============================] - 5s 14ms/step - loss: 0.0221 - R: 0.9182 - val_loss: 0.3122 - val_R: 0.5141\n",
            "Epoch 36/50\n",
            "320/320 [==============================] - 5s 14ms/step - loss: 0.0177 - R: 0.9228 - val_loss: 0.3174 - val_R: 0.5198\n",
            "Epoch 37/50\n",
            "320/320 [==============================] - 5s 14ms/step - loss: 0.0137 - R: 0.9281 - val_loss: 0.3187 - val_R: 0.5250\n",
            "Epoch 38/50\n",
            "320/320 [==============================] - 5s 14ms/step - loss: 0.0182 - R: 0.9174 - val_loss: 0.3192 - val_R: 0.5233\n",
            "Epoch 39/50\n",
            "320/320 [==============================] - 5s 14ms/step - loss: 0.0135 - R: 0.9288 - val_loss: 0.3228 - val_R: 0.5170\n",
            "Epoch 40/50\n",
            "320/320 [==============================] - 5s 14ms/step - loss: 0.0155 - R: 0.9283 - val_loss: 0.3644 - val_R: 0.5018\n",
            "Epoch 41/50\n",
            "320/320 [==============================] - 5s 14ms/step - loss: 0.0142 - R: 0.9294 - val_loss: 0.3422 - val_R: 0.5260\n",
            "Epoch 42/50\n",
            "320/320 [==============================] - 5s 14ms/step - loss: 0.0173 - R: 0.9145 - val_loss: 0.3326 - val_R: 0.5250\n",
            "Epoch 43/50\n",
            "320/320 [==============================] - 5s 14ms/step - loss: 0.0144 - R: 0.9287 - val_loss: 0.3422 - val_R: 0.5191\n",
            "Epoch 44/50\n",
            "320/320 [==============================] - 5s 14ms/step - loss: 0.0146 - R: 0.9317 - val_loss: 0.3204 - val_R: 0.5326\n",
            "Epoch 45/50\n",
            "320/320 [==============================] - 5s 14ms/step - loss: 0.0134 - R: 0.9262 - val_loss: 0.3395 - val_R: 0.5258\n",
            "Epoch 46/50\n",
            "320/320 [==============================] - 5s 14ms/step - loss: 0.0124 - R: 0.9342 - val_loss: 0.3535 - val_R: 0.5203\n",
            "Epoch 47/50\n",
            "320/320 [==============================] - 5s 14ms/step - loss: 0.0145 - R: 0.9316 - val_loss: 0.3621 - val_R: 0.5289\n",
            "Epoch 48/50\n",
            "320/320 [==============================] - 5s 14ms/step - loss: 0.0181 - R: 0.9288 - val_loss: 0.3311 - val_R: 0.5314\n",
            "Epoch 49/50\n",
            "320/320 [==============================] - 5s 14ms/step - loss: 0.0198 - R: 0.9184 - val_loss: 0.3367 - val_R: 0.5148\n",
            "Epoch 50/50\n",
            "320/320 [==============================] - 5s 14ms/step - loss: 0.0149 - R: 0.9288 - val_loss: 0.3248 - val_R: 0.5282\n"
          ],
          "name": "stdout"
        },
        {
          "output_type": "execute_result",
          "data": {
            "text/plain": [
              "<tensorflow.python.keras.callbacks.History at 0x7fe9a9b9e550>"
            ]
          },
          "metadata": {
            "tags": []
          },
          "execution_count": 30
        }
      ]
    },
    {
      "cell_type": "code",
      "metadata": {
        "id": "VwDThLjoBjkU",
        "colab": {
          "base_uri": "https://localhost:8080/",
          "height": 35
        },
        "outputId": "ed48cf20-07a8-4244-d2df-fa32e6435a72"
      },
      "source": [
        "def r_squared(x_test,y_pred):\n",
        "    r = np.corrcoef(x_test.transpose(),y_pred.transpose())[0,1]\n",
        "    return r\n",
        "pred = model.predict(x_test)\n",
        "r_squared(y_test,pred)    "
      ],
      "execution_count": null,
      "outputs": [
        {
          "output_type": "execute_result",
          "data": {
            "text/plain": [
              "0.8916106943699199"
            ]
          },
          "metadata": {
            "tags": []
          },
          "execution_count": 31
        }
      ]
    },
    {
      "cell_type": "code",
      "metadata": {
        "id": "H_ouqg4Bfcpi",
        "colab": {
          "base_uri": "https://localhost:8080/",
          "height": 35
        },
        "outputId": "4a2d1a37-a617-4178-ded7-dbac84d6512d"
      },
      "source": [
        "from sklearn.metrics import mean_squared_error\n",
        "mean_squared_error(y_test,pred)**(1/2)"
      ],
      "execution_count": null,
      "outputs": [
        {
          "output_type": "execute_result",
          "data": {
            "text/plain": [
              "0.5410075759299813"
            ]
          },
          "metadata": {
            "tags": []
          },
          "execution_count": 32
        }
      ]
    },
    {
      "cell_type": "code",
      "metadata": {
        "id": "HhdSJNCfiHNy",
        "colab": {
          "base_uri": "https://localhost:8080/",
          "height": 391
        },
        "outputId": "d0172675-0d9c-4e96-e53e-ef47be61ba26"
      },
      "source": [
        "import matplotlib.pyplot as plt\n",
        "f, ax = plt.subplots(figsize=(6, 6))\n",
        "ax.scatter(y_test, pred, )\n",
        "ax.plot([0.2, 7.5], [0.2, 7.5], ls=\"-\", c=\".3\")\n",
        "ax.set(xlim=(0.2, 7.5), ylim=(0.2, 7.5))\n"
      ],
      "execution_count": null,
      "outputs": [
        {
          "output_type": "execute_result",
          "data": {
            "text/plain": [
              "[(0.2, 7.5), (0.2, 7.5)]"
            ]
          },
          "metadata": {
            "tags": []
          },
          "execution_count": 23
        },
        {
          "output_type": "display_data",
          "data": {
            "image/png": "[encoded data removed]",
            "text/plain": [
              "<Figure size 432x432 with 1 Axes>"
            ]
          },
          "metadata": {
            "tags": [],
            "needs_background": "light"
          }
        }
      ]
    },
    {
      "cell_type": "code",
      "metadata": {
        "id": "0ob74Zyl-cIx",
        "colab": {
          "base_uri": "https://localhost:8080/",
          "height": 421
        },
        "outputId": "24a79863-f90e-4160-8769-9799d544df8c"
      },
      "source": [
        "import matplotlib.pyplot as plt\n",
        "f, ax = plt.subplots(figsize=(6, 6))\n",
        "ax.scatter(y_test, pred, )\n",
        "ax.plot([0, 8], [0, 8], ls=\"-\", c=\".3\")\n",
        "ax.set(xlim=(0, 8), ylim=(0, 8))\n",
        "plt.title(\"Validation period\")\n",
        "plt.xlabel(\"observed\")\n",
        "plt.ylabel(\"predicted\")\n",
        "plt.text(1,7,'R = 0.91', fontsize=14)\n",
        "plt.text(1,6.3,'RMSE = 0.44', fontsize=14)"
      ],
      "execution_count": null,
      "outputs": [
        {
          "output_type": "execute_result",
          "data": {
            "text/plain": [
              "Text(1, 6.3, 'RMSE = 0.44')"
            ]
          },
          "metadata": {
            "tags": []
          },
          "execution_count": 42
        },
        {
          "output_type": "display_data",
          "data": {
            "image/png": "[encoded data removed]",
            "text/plain": [
              "<Figure size 432x432 with 1 Axes>"
            ]
          },
          "metadata": {
            "tags": [],
            "needs_background": "light"
          }
        }
      ]
    }
  ]
}